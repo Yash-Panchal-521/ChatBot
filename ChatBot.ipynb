{
 "cells": [
  {
   "cell_type": "code",
   "execution_count": 1,
   "id": "e59b7304",
   "metadata": {
    "scrolled": false
   },
   "outputs": [
    {
     "name": "stderr",
     "output_type": "stream",
     "text": [
      "No model was supplied, defaulted to sshleifer/distilbart-cnn-12-6 and revision a4f8f3e (https://huggingface.co/sshleifer/distilbart-cnn-12-6).\n",
      "Using a pipeline without specifying a model name and revision in production is not recommended.\n"
     ]
    }
   ],
   "source": [
    "import numpy as np \n",
    "import pandas as pd\n",
    "import nltk \n",
    "from nltk.corpus import stopwords\n",
    "from nltk.stem.porter import PorterStemmer\n",
    "from nltk.tokenize import sent_tokenize\n",
    "from sentence_transformers import SentenceTransformer, util\n",
    "from transformers import pipeline\n",
    "import string\n",
    "import re\n",
    "\n",
    "\n",
    "model = SentenceTransformer('sentence-transformers/all-MiniLM-L6-v2')\n",
    "summarize = pipeline(\"summarization\")"
   ]
  },
  {
   "cell_type": "code",
   "execution_count": 7,
   "id": "b78f8483",
   "metadata": {
    "scrolled": false
   },
   "outputs": [],
   "source": [
    "class chatbot:\n",
    "    def __init__(self):\n",
    "        self.doc: pd.DataFrame = pd.read_excel(\"C:/Users/Yash/Desktop/NLP project/Data.xlsx\")\n",
    "        temp = list(self.doc[\"text\"])\n",
    "        \n",
    "        #lower case conversion\n",
    "        for i in range(len(temp)):\n",
    "            temp[i] = temp[i].lower()\n",
    "        \n",
    "        #stopword removal\n",
    "        stop_words = stopwords.words('english')\n",
    "        for i in range(len(temp)):\n",
    "            empty = \"\".join([word+\" \" for word in temp[i].split() if word not in stop_words])\n",
    "            temp[i] = empty\n",
    "            \n",
    "        \n",
    "        #lemmatazing\n",
    "        porter = PorterStemmer()\n",
    "        for i in range(len(temp)):\n",
    "            empty = \"\"\n",
    "            for j in temp[i].split():\n",
    "                empty += porter.stem(j)+\" \"\n",
    "            temp[i] = empty\n",
    "        \n",
    "        #sentence tokenizor\n",
    "        for i in range(len(temp)):\n",
    "            temp[i] = sent_tokenize(temp[i])\n",
    "            \n",
    "        #removing punctions\n",
    "        for i in range(len(temp)):\n",
    "            t = []\n",
    "            for j in range(len(temp[i])):\n",
    "                text_p = \"\".join([char for char in temp[i][j] if char not in string.punctuation])\n",
    "                t.append(text_p)\n",
    "            temp[i] = t\n",
    "        \n",
    "        #storing pre-processed data\n",
    "        self.doc[\"pre_processed\"] = temp\n",
    "        \n",
    "        #Converting to embedding\n",
    "        self.doc[\"embedding\"] = self.doc[\"pre_processed\"].apply(lambda x: model.encode(x, convert_to_tensor=True))\n",
    "        self.temp: pd.DataFrame;\n",
    "        \n",
    "    def QA(self, flag):\n",
    "        print(\"\\n\\n\")\n",
    "        Q = str(input(\"Enter your Question >>> \"))\n",
    "        \n",
    "        Q = Q.lower()\n",
    "        end = ['goodbye', 'bye', 'see you later', 'talk to you soon', 'take care']\n",
    "        \n",
    "        if Q in end:\n",
    "            return True\n",
    "        \n",
    "        stop_words = stopwords.words(\"english\")\n",
    "        porter = PorterStemmer()\n",
    "        empty = \"\"\n",
    "        for word in Q.split():\n",
    "            if word not in stop_words:\n",
    "                empty += porter.stem(word) + \" \"\n",
    "                \n",
    "        Q_embedding = model.encode(Q, convert_to_tensor=True)\n",
    "#         print(Q_embedding)\n",
    "\n",
    "        sim = []\n",
    "        for i in self.doc[\"embedding\"]:\n",
    "            maxx = 10e-9\n",
    "            for j in i:\n",
    "                comm = util.cos_sim(Q_embedding, j)\n",
    "                if(comm>maxx):\n",
    "                    maxx = comm\n",
    "            sim.append(maxx)\n",
    "            \n",
    "        self.temp: pd.DataFrame = pd.DataFrame(self.doc)\n",
    "        self.temp[\"similarity\"] = sim\n",
    "        self.temp = self.temp.sort_values(\"similarity\", ascending=False) \n",
    "#         self.temp = self.temp.reset_index()\n",
    "\n",
    "        \n",
    "        context = self.temp.loc[0, \"text\"]\n",
    "        summary = summarize(context, max_length=200, min_length=100, do_sample=False)[0]['summary_text']\n",
    "        print(\"bot >> according to best match: \\n\", summary)\n",
    "            \n",
    "            \n",
    "        \n",
    "        return False \n",
    "\n",
    "bot = chatbot()"
   ]
  },
  {
   "cell_type": "code",
   "execution_count": 8,
   "id": "76effc07",
   "metadata": {},
   "outputs": [
    {
     "name": "stdout",
     "output_type": "stream",
     "text": [
      "\n",
      "\n",
      "\n",
      "Enter your Question >>> what is machine learning\n",
      "bot >> according to best match: \n",
      "  Machine Learning tutorial covers basic and advanced concepts, specially designed to cater to both students and experienced working professionals . This is the field of study that gives computers the capability to learn without being explicitly programmed. It is one of the most exciting technologies that one would have ever come across. It gives the computer that makes it more similar to humans: The ability to learn. The tutorial helps you gain a solid introduction to the fundamentals of machine learning and explore a wide range of techniques, including supervised, unsupervised, and reinforcement learning.\n",
      "\n",
      "\n",
      "\n",
      "Enter your Question >>> AI\n",
      "bot >> according to best match: \n",
      "  Machine Learning tutorial covers basic and advanced concepts, specially designed to cater to both students and experienced working professionals . This is the field of study that gives computers the capability to learn without being explicitly programmed. It is one of the most exciting technologies that one would have ever come across. It gives the computer that makes it more similar to humans: The ability to learn. The tutorial helps you gain a solid introduction to the fundamentals of machine learning and explore a wide range of techniques, including supervised, unsupervised, and reinforcement learning.\n",
      "\n",
      "\n",
      "\n",
      "Enter your Question >>> BYE\n"
     ]
    }
   ],
   "source": [
    "flag = False\n",
    "while not flag:\n",
    "    flag = bot.QA(flag)"
   ]
  },
  {
   "cell_type": "code",
   "execution_count": null,
   "id": "c42d592e",
   "metadata": {},
   "outputs": [],
   "source": []
  }
 ],
 "metadata": {
  "kernelspec": {
   "display_name": "Python 3 (ipykernel)",
   "language": "python",
   "name": "python3"
  },
  "language_info": {
   "codemirror_mode": {
    "name": "ipython",
    "version": 3
   },
   "file_extension": ".py",
   "mimetype": "text/x-python",
   "name": "python",
   "nbconvert_exporter": "python",
   "pygments_lexer": "ipython3",
   "version": "3.9.13"
  }
 },
 "nbformat": 4,
 "nbformat_minor": 5
}
